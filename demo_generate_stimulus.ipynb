{
 "cells": [
  {
   "cell_type": "code",
   "execution_count": 17,
   "metadata": {
    "colab": {},
    "colab_type": "code",
    "id": "1WaqlX6E9Mja"
   },
   "outputs": [],
   "source": [
    "%matplotlib inline\n",
    "from pylab import *\n",
    "import os, shutil, os.path as path\n",
    "from skimage import filters\n",
    "import numpy as np"
   ]
  },
  {
   "cell_type": "markdown",
   "metadata": {
    "colab_type": "text",
    "id": "ckkHCmkE9WQh"
   },
   "source": [
    "# Helper function"
   ]
  },
  {
   "cell_type": "code",
   "execution_count": 18,
   "metadata": {
    "colab": {},
    "colab_type": "code",
    "id": "R0lPLiNB9OGQ"
   },
   "outputs": [],
   "source": [
    "def init_colors(color1, color2):\n",
    "    if color1 is None:\n",
    "        color1 = [1,1,1]\n",
    "    elif color1 == 'random':\n",
    "        color1 = np.random.rand(3)\n",
    "    if color2 is None:\n",
    "        color2 = [0,0,0]\n",
    "    elif color2 == 'random':\n",
    "        color2 = np.random.rand(3)\n",
    "    return color1, color2\n",
    "\n",
    "def grating(size=[100,100], ori=0, bar_width=5, phase=0, waveform='sin',\n",
    "        color1=None, color2=None, contrast=1, shape=[224,224], alpha=True):\n",
    "    '''\n",
    "    Generate a grating of specified orientation, spatial frequency, phase, etc.\n",
    "    '''\n",
    "    color1, color2 = init_colors(color1, color2)\n",
    "    H, W = shape\n",
    "    x, y = np.meshgrid(np.arange(W)-(W-1)/2, np.arange(H)[::-1]-(H-1)/2)\n",
    "    h, w = size\n",
    "    outline = ((x/(w/2))**2 + (y/(w/2))**2 < 1)[...,np.newaxis]\n",
    "    texture = 0.5 + 0.5*contrast*np.cos(pi/bar_width * (x*np.cos(ori)+y*np.sin(ori)) + phase)[...,np.newaxis] \n",
    "    if waveform == 'square':\n",
    "        texture = (texture > 0.5)\n",
    "    texture = texture * np.reshape(color1, [1,1,-1]) + (1-texture) * np.reshape(color2, [1,1,-1])\n",
    "    if alpha:\n",
    "        im = np.dstack([texture, outline])\n",
    "    else:\n",
    "        im = outline * texture + (1-outline) * 0.5\n",
    "    return im\n",
    "\n",
    "def band_limit_noise(sigma=5, color1=None, color2=None, contrast=1, shape=[224,224], alpha=True):\n",
    "    '''\n",
    "    Generate a noisy background image (band-limited Gaussian random noise).\n",
    "    '''\n",
    "    color1, color2 = init_colors(color1, color2)\n",
    "    im = np.random.rand(*shape)\n",
    "    im = filters.difference_of_gaussians(im, low_sigma=sigma, high_sigma=None, mode='wrap')\n",
    "    im = 0.5 + 0.5*contrast*im/np.max(np.abs(im))\n",
    "    im = im[...,np.newaxis]\n",
    "    im = im * np.reshape(color1, [1,1,-1]) + (1-im) * np.reshape(color2, [1,1,-1])\n",
    "    if alpha:\n",
    "        im = np.dstack([im, np.ones(im.shape[:2])])\n",
    "    return im\n",
    "\n",
    "def alpha_blend(im1, im2, alpha='max'):\n",
    "    '''\n",
    "    Overlay im1 on im2, blending according to the alpha channel of im1.\n",
    "    '''\n",
    "    im = im1[...,3:] * im1[...,:3] + (1-im1[...,3:]) * im2[...,:3]\n",
    "    if alpha is None:\n",
    "        alpha = np.ones(im.shape[:2])\n",
    "    elif alpha == 'max':\n",
    "        alpha = np.maximum(im1[...,3], im2[...,3])\n",
    "    im = np.dstack([im, alpha])\n",
    "    return im"
   ]
  },
  {
   "cell_type": "markdown",
   "metadata": {
    "colab_type": "text",
    "id": "u2zQkeKE9ikx"
   },
   "source": [
    "# Simple gratings without inducer"
   ]
  },
  {
   "cell_type": "code",
   "execution_count": 19,
   "metadata": {
    "colab": {},
    "colab_type": "code",
    "id": "CLX2dOUU9Z8A"
   },
   "outputs": [
    {
     "name": "stdout",
     "output_type": "stream",
     "text": [
      "/Users/wuyujie/Documents/2020NMA/gratings/train/0-left\n"
     ]
    },
    {
     "ename": "FileExistsError",
     "evalue": "[Errno 17] File exists: '/Users/wuyujie/Documents/2020NMA/gratings/train/0-left'",
     "output_type": "error",
     "traceback": [
      "\u001b[0;31m---------------------------------------------------------------------------\u001b[0m",
      "\u001b[0;31mFileExistsError\u001b[0m                           Traceback (most recent call last)",
      "\u001b[0;32m<ipython-input-19-493ff2fde346>\u001b[0m in \u001b[0;36m<module>\u001b[0;34m\u001b[0m\n\u001b[1;32m     23\u001b[0m \u001b[0;32mfor\u001b[0m \u001b[0mstage\u001b[0m \u001b[0;32min\u001b[0m \u001b[0mstages\u001b[0m\u001b[0;34m:\u001b[0m\u001b[0;34m\u001b[0m\u001b[0;34m\u001b[0m\u001b[0m\n\u001b[1;32m     24\u001b[0m     \u001b[0;31m#shutil.rmtree(f'/Users/wuyujie/Documents/2020NMA/gratings/{stage}')\u001b[0m\u001b[0;34m\u001b[0m\u001b[0;34m\u001b[0m\u001b[0;34m\u001b[0m\u001b[0m\n\u001b[0;32m---> 25\u001b[0;31m     \u001b[0mgenerate_simple_grating\u001b[0m\u001b[0;34m(\u001b[0m\u001b[0;34mf'/Users/wuyujie/Documents/2020NMA/gratings/{stage}/0-left'\u001b[0m\u001b[0;34m,\u001b[0m \u001b[0mori_inners\u001b[0m\u001b[0;34m)\u001b[0m\u001b[0;34m\u001b[0m\u001b[0;34m\u001b[0m\u001b[0m\n\u001b[0m\u001b[1;32m     26\u001b[0m     \u001b[0mgenerate_simple_grating\u001b[0m\u001b[0;34m(\u001b[0m\u001b[0;34mf'/Users/wuyujie/Documents/2020NMA/gratings/{stage}/1-right'\u001b[0m\u001b[0;34m,\u001b[0m \u001b[0;34m-\u001b[0m\u001b[0mori_inners\u001b[0m\u001b[0;34m)\u001b[0m\u001b[0;34m\u001b[0m\u001b[0;34m\u001b[0m\u001b[0m\n\u001b[1;32m     27\u001b[0m     \u001b[0mgenerate_simple_grating\u001b[0m\u001b[0;34m(\u001b[0m\u001b[0;34mf'/Users/wuyujie/Documents/2020NMA/gratings/{stage}/2-vertical'\u001b[0m\u001b[0;34m,\u001b[0m \u001b[0;34m[\u001b[0m\u001b[0;36m0\u001b[0m\u001b[0;34m]\u001b[0m\u001b[0;34m)\u001b[0m\u001b[0;34m\u001b[0m\u001b[0;34m\u001b[0m\u001b[0m\n",
      "\u001b[0;32m<ipython-input-19-493ff2fde346>\u001b[0m in \u001b[0;36mgenerate_simple_grating\u001b[0;34m(foldername, ori_inner)\u001b[0m\n\u001b[1;32m      9\u001b[0m \u001b[0;32mdef\u001b[0m \u001b[0mgenerate_simple_grating\u001b[0m\u001b[0;34m(\u001b[0m\u001b[0mfoldername\u001b[0m\u001b[0;34m,\u001b[0m \u001b[0mori_inner\u001b[0m\u001b[0;34m)\u001b[0m\u001b[0;34m:\u001b[0m\u001b[0;34m\u001b[0m\u001b[0;34m\u001b[0m\u001b[0m\n\u001b[1;32m     10\u001b[0m     \u001b[0mprint\u001b[0m\u001b[0;34m(\u001b[0m\u001b[0mfoldername\u001b[0m\u001b[0;34m)\u001b[0m\u001b[0;34m\u001b[0m\u001b[0;34m\u001b[0m\u001b[0m\n\u001b[0;32m---> 11\u001b[0;31m     \u001b[0mos\u001b[0m\u001b[0;34m.\u001b[0m\u001b[0mmakedirs\u001b[0m\u001b[0;34m(\u001b[0m\u001b[0mfoldername\u001b[0m\u001b[0;34m)\u001b[0m\u001b[0;34m\u001b[0m\u001b[0;34m\u001b[0m\u001b[0m\n\u001b[0m\u001b[1;32m     12\u001b[0m     \u001b[0mk\u001b[0m \u001b[0;34m=\u001b[0m \u001b[0;36m0\u001b[0m\u001b[0;34m\u001b[0m\u001b[0;34m\u001b[0m\u001b[0m\n\u001b[1;32m     13\u001b[0m     \u001b[0;32mfor\u001b[0m \u001b[0mori\u001b[0m \u001b[0;32min\u001b[0m \u001b[0mori_inners\u001b[0m\u001b[0;34m:\u001b[0m\u001b[0;34m\u001b[0m\u001b[0;34m\u001b[0m\u001b[0m\n",
      "\u001b[0;32m/opt/anaconda3/lib/python3.7/os.py\u001b[0m in \u001b[0;36mmakedirs\u001b[0;34m(name, mode, exist_ok)\u001b[0m\n\u001b[1;32m    219\u001b[0m             \u001b[0;32mreturn\u001b[0m\u001b[0;34m\u001b[0m\u001b[0;34m\u001b[0m\u001b[0m\n\u001b[1;32m    220\u001b[0m     \u001b[0;32mtry\u001b[0m\u001b[0;34m:\u001b[0m\u001b[0;34m\u001b[0m\u001b[0;34m\u001b[0m\u001b[0m\n\u001b[0;32m--> 221\u001b[0;31m         \u001b[0mmkdir\u001b[0m\u001b[0;34m(\u001b[0m\u001b[0mname\u001b[0m\u001b[0;34m,\u001b[0m \u001b[0mmode\u001b[0m\u001b[0;34m)\u001b[0m\u001b[0;34m\u001b[0m\u001b[0;34m\u001b[0m\u001b[0m\n\u001b[0m\u001b[1;32m    222\u001b[0m     \u001b[0;32mexcept\u001b[0m \u001b[0mOSError\u001b[0m\u001b[0;34m:\u001b[0m\u001b[0;34m\u001b[0m\u001b[0;34m\u001b[0m\u001b[0m\n\u001b[1;32m    223\u001b[0m         \u001b[0;31m# Cannot rely on checking for EEXIST, since the operating system\u001b[0m\u001b[0;34m\u001b[0m\u001b[0;34m\u001b[0m\u001b[0;34m\u001b[0m\u001b[0m\n",
      "\u001b[0;31mFileExistsError\u001b[0m: [Errno 17] File exists: '/Users/wuyujie/Documents/2020NMA/gratings/train/0-left'"
     ]
    }
   ],
   "source": [
    "bar_width = 10\n",
    "grating_size = [70,70]\n",
    "phases = np.linspace(0, np.pi, 5) # np.arange(0, 2*np.pi, 2*np.pi/5)\n",
    "contrasts = [1]\n",
    "N = 20\n",
    "stages = ['train', 'val']\n",
    "ori_inners = np.arange(-np.pi/4, 0, 5/180*np.pi) \n",
    "\n",
    "def generate_simple_grating(foldername, ori_inner):\n",
    "    print(foldername)\n",
    "    os.makedirs(foldername)\n",
    "    k = 0\n",
    "    for ori in ori_inners:\n",
    "        for phase in phases:\n",
    "            for contrast in contrasts:\n",
    "                for n in range(N):\n",
    "                    inner = grating(size=grating_size, ori=-ori, bar_width=bar_width, phase=phase, contrast=contrast)\n",
    "                    bg = band_limit_noise(color2=None)\n",
    "                    im = alpha_blend(inner, bg)\n",
    "                    imsave(f\"{foldername}/{k:04d}_ori{ori/np.pi*180:.0f}_w{bar_width:02d}_p{phase*180/np.pi:.0f}_c{contrast*100:03d}.jpg\", im)\n",
    "                    k += 1\n",
    "\n",
    "for stage in stages:\n",
    "    #shutil.rmtree(f'/Users/wuyujie/Documents/2020NMA/gratings/{stage}')\n",
    "    generate_simple_grating(f'/Users/wuyujie/Documents/2020NMA/gratings/{stage}/0-left', ori_inners)\n",
    "    generate_simple_grating(f'/Users/wuyujie/Documents/2020NMA/gratings/{stage}/1-right', -ori_inners)\n",
    "    generate_simple_grating(f'/Users/wuyujie/Documents/2020NMA/gratings/{stage}/2-vertical', [0])"
   ]
  },
  {
   "cell_type": "markdown",
   "metadata": {
    "colab_type": "text",
    "id": "3wkJlDMn90PZ"
   },
   "source": [
    "# illusory gratings with inducer"
   ]
  },
  {
   "cell_type": "code",
   "execution_count": null,
   "metadata": {
    "colab": {},
    "colab_type": "code",
    "id": "M_A_UNf29yzz"
   },
   "outputs": [],
   "source": [
    "bar_width = 10\n",
    "grating_size_inner = [70]*2\n",
    "grating_size_outer = [180]*2\n",
    "phases = np.linspace(0, np.pi, 5)  # np.arange(0, 2*np.pi, 2*np.pi/5)\n",
    "contrasts = [1]\n",
    "N = 2\n",
    "stages = ['test']\n",
    "ori_inners = [0]\n",
    "ori_outers = np.arange(-np.pi/6, 0, 5/180*np.pi)\n",
    "\n",
    "\n",
    "def generate_illusory_grating(foldername, ori_inners, ori_outers):\n",
    "    print(foldername)\n",
    "    os.makedirs(foldername)\n",
    "    k = 0\n",
    "    for ori_inner in ori_inners:\n",
    "        for ori_outer in ori_outers:\n",
    "            for phase in phases:\n",
    "                for contrast in contrasts:\n",
    "                    for n in range(N):\n",
    "                        inner = grating(size=grating_size_inner, ori=-ori_inner, bar_width=bar_width, phase=phase, contrast=contrast)\n",
    "                        outer = grating(size=grating_size_outer, ori=-ori_outer, bar_width=bar_width, phase=phase, contrast=contrast)\n",
    "                        bg = band_limit_noise(color2=None)\n",
    "                        im = alpha_blend(inner, outer)\n",
    "                        im = alpha_blend(im, bg)\n",
    "                        imsave(f\"{foldername}/{k:04d}_orii{ori_inner/np.pi*180:.0f}_orio{ori_outer/np.pi*180:.0f}_w{bar_width:02d}_p{phase*180/np.pi:.0f}_c{contrast*100:03d}.jpg\", im)\n",
    "                        k += 1\n",
    "\n",
    "for stage in stages:\n",
    "    if path.exists(f'/NMA project/test/gratings/{stage}'):\n",
    "        shutil.rmtree(f'/NMA project/test/gratings/{stage}')\n",
    "    generate_illusory_grating(f'gratings/{stage}/0-left', ori_inners, -ori_outers)\n",
    "    generate_illusory_grating(f'gratings/{stage}/1-right', ori_inners, ori_outers)\n",
    "    generate_illusory_grating(f'gratings/{stage}/2-vertical', ori_inners, [0])"
   ]
  }
 ],
 "metadata": {
  "colab": {
   "collapsed_sections": [],
   "name": "demo_generate_stimulus.ipynb",
   "provenance": []
  },
  "kernelspec": {
   "display_name": "Python 3",
   "language": "python",
   "name": "python3"
  },
  "language_info": {
   "codemirror_mode": {
    "name": "ipython",
    "version": 3
   },
   "file_extension": ".py",
   "mimetype": "text/x-python",
   "name": "python",
   "nbconvert_exporter": "python",
   "pygments_lexer": "ipython3",
   "version": "3.7.6"
  }
 },
 "nbformat": 4,
 "nbformat_minor": 1
}
